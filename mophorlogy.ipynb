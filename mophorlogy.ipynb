{
 "cells": [
  {
   "cell_type": "code",
   "execution_count": 1,
   "metadata": {},
   "outputs": [],
   "source": [
    "import cv2\n",
    "import numpy as np"
   ]
  },
  {
   "cell_type": "code",
   "execution_count": 2,
   "metadata": {},
   "outputs": [],
   "source": [
    "img = cv2.imread('code_jeje_yang/Submit/images/DZ6079a_02A05 DAPI 10x.tif', 0)\n",
    "edges1 = cv2.Canny(img, 10, 100)\n",
    "edges2 = cv2.Canny(img, 10, 150)\n",
    "cv2.imshow('edges1', edges2)\n",
    "\n",
    "cv2.waitKey(0)\n",
    "cv2.destroyAllWindows()"
   ]
  },
  {
   "cell_type": "code",
   "execution_count": 5,
   "metadata": {},
   "outputs": [],
   "source": [
    "horizon_kernel = np.ones((1,3), np.uint8)\n",
    "vertical_kernel = np.ones((3,1), np.uint8)"
   ]
  },
  {
   "cell_type": "code",
   "execution_count": 8,
   "metadata": {},
   "outputs": [],
   "source": [
    "dilation = cv2.dilate(edges2,horizon_kernel,iterations = 1)\n",
    "dilation = cv2.dilate(dilation,vertical_kernel,iterations = 1)\n",
    "cv2.imshow('dilation', dilation)\n",
    "\n",
    "cv2.waitKey(0)\n",
    "cv2.destroyAllWindows()"
   ]
  },
  {
   "cell_type": "code",
   "execution_count": 11,
   "metadata": {},
   "outputs": [],
   "source": [
    "imagem = cv2.bitwise_not(dilation)\n",
    "cv2.imshow('imagem', imagem)\n",
    "\n",
    "cv2.waitKey(0)\n",
    "cv2.destroyAllWindows()"
   ]
  },
  {
   "cell_type": "code",
   "execution_count": 18,
   "metadata": {},
   "outputs": [
    {
     "name": "stdout",
     "output_type": "stream",
     "text": [
      "(1040, 1388)\n"
     ]
    }
   ],
   "source": [
    "h, w = imagem.shape[:2]\n",
    "mask = np.zeros((h+2, w+2), np.uint8)\n",
    "\n",
    "flood = cv2.floodFill(imagem, mask, (0,0), 255)\n",
    "print(flood[1].shape)\n",
    "cv2.imshow('flood', flood[1])\n",
    "\n",
    "cv2.waitKey(0)\n",
    "cv2.destroyAllWindows()"
   ]
  }
 ],
 "metadata": {
  "kernelspec": {
   "display_name": "kernel",
   "language": "python",
   "name": "kernel"
  },
  "language_info": {
   "codemirror_mode": {
    "name": "ipython",
    "version": 3
   },
   "file_extension": ".py",
   "mimetype": "text/x-python",
   "name": "python",
   "nbconvert_exporter": "python",
   "pygments_lexer": "ipython3",
   "version": "3.7.9"
  }
 },
 "nbformat": 4,
 "nbformat_minor": 4
}
