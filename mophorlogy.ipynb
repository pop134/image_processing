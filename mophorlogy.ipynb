{
 "cells": [
  {
   "cell_type": "code",
   "execution_count": 15,
   "metadata": {},
   "outputs": [],
   "source": [
    "import cv2\n",
    "import numpy as np\n",
    "import matplotlib.pyplot as plt"
   ]
  },
  {
   "cell_type": "code",
   "execution_count": 27,
   "metadata": {},
   "outputs": [],
   "source": [
    "IMG_NAME = 'code_jeje_yang/Submit/images/DZ6079a_02A05 DAPI 10x.tif'"
   ]
  },
  {
   "cell_type": "code",
   "execution_count": null,
   "metadata": {},
   "outputs": [],
   "source": [
    "res = detectCircles(dilation,10,1)"
   ]
  },
  {
   "cell_type": "code",
   "execution_count": null,
   "metadata": {},
   "outputs": [],
   "source": [
    "def detectCircles(img,threshold,region,radius = None):\n",
    "    (M,N) = img.shape\n",
    "    if radius == None:\n",
    "        R_max = np.max((M,N))\n",
    "        R_min = 3\n",
    "    else:\n",
    "        [R_max,R_min] = radius\n",
    "\n",
    "    R = R_max - R_min\n",
    "    #Initializing accumulator array.\n",
    "    #Accumulator array is a 3 dimensional array with the dimensions representing\n",
    "    #the radius, X coordinate and Y coordinate resectively.\n",
    "    #Also appending a padding of 2 times R_max to overcome the problems of overflow\n",
    "    A = np.zeros((R_max,M+2*R_max,N+2*R_max))\n",
    "    B = np.zeros((R_max,M+2*R_max,N+2*R_max))\n",
    "\n",
    "    #Precomputing all angles to increase the speed of the algorithm\n",
    "    theta = np.arange(0,360)*np.pi/180\n",
    "    edges = np.argwhere(img[:,:])                                               #Extracting all edge coordinates\n",
    "    for val in range(R):\n",
    "        r = R_min+val\n",
    "        #Creating a Circle Blueprint\n",
    "        bprint = np.zeros((2*(r+1),2*(r+1)))\n",
    "        (m,n) = (r+1,r+1)                                                       #Finding out the center of the blueprint\n",
    "        for angle in theta:\n",
    "            x = int(np.round(r*np.cos(angle)))\n",
    "            y = int(np.round(r*np.sin(angle)))\n",
    "            bprint[m+x,n+y] = 1\n",
    "        constant = np.argwhere(bprint).shape[0]\n",
    "        for x,y in edges:                                                       #For each edge coordinates\n",
    "            #Centering the blueprint circle over the edges\n",
    "            #and updating the accumulator array\n",
    "            X = [x-m+R_max,x+m+R_max]                                           #Computing the extreme X values\n",
    "            Y= [y-n+R_max,y+n+R_max]                                            #Computing the extreme Y values\n",
    "            A[r,X[0]:X[1],Y[0]:Y[1]] += bprint\n",
    "        A[r][A[r]<threshold*constant/r] = 0\n",
    "\n",
    "    for r,x,y in np.argwhere(A):\n",
    "        temp = A[r-region:r+region,x-region:x+region,y-region:y+region]\n",
    "        try:\n",
    "            p,a,b = np.unravel_index(np.argmax(temp),temp.shape)\n",
    "        except:\n",
    "            continue\n",
    "        B[r+(p-region),x+(a-region),y+(b-region)] = 1\n",
    "\n",
    "    return B[:,R_max:-R_max,R_max:-R_max]"
   ]
  },
  {
   "cell_type": "code",
   "execution_count": 60,
   "metadata": {},
   "outputs": [],
   "source": [
    "# edges1 = cv2.resize(edges1, (1000, 700))\n",
    "# edges2 = cv2.resize(edges2, (1000, 700))\n",
    "# dilation = cv2.resize(dilation, (1000, 700))\n",
    "\n",
    "cv2.imshow('dilation', dilation)\n",
    "# cv2.imshow('edges1', image)\n",
    "# cv2.imshow('edges2', edges2)\n",
    "cv2.waitKey(0)\n",
    "cv2.destroyAllWindows()"
   ]
  },
  {
   "cell_type": "markdown",
   "metadata": {},
   "source": [
    "# test opencv"
   ]
  },
  {
   "cell_type": "code",
   "execution_count": 107,
   "metadata": {},
   "outputs": [],
   "source": [
    "def detect_circle(img_name):\n",
    "    img = cv2.imread(img_name, 0)\n",
    "    color_img = cv2.imread(img_name)\n",
    "\n",
    "    ret, img = cv2.threshold(img, 120, 255, cv2.THRESH_BINARY + cv2.THRESH_OTSU)      \n",
    "\n",
    "    edges1 = cv2.Canny(img, 10, 100)\n",
    "    edges2 = cv2.Canny(img, 10, 150)\n",
    "\n",
    "    horizon_kernel = np.ones((1,3), np.uint8)\n",
    "    vertical_kernel = np.ones((3,1), np.uint8)\n",
    "\n",
    "    dilation = cv2.dilate(edges2,horizon_kernel,iterations = 1)\n",
    "    dilation = cv2.dilate(dilation,vertical_kernel,iterations = 1)\n",
    "    \n",
    "#     dilation = cv2.bitwise_not(dilation)\n",
    "    circles = cv2.HoughCircles(image=dilation, \n",
    "                               method=cv2.HOUGH_GRADIENT,\n",
    "                               dp=1.5,\n",
    "                               minDist=50,)\n",
    "#                                param1=50,\n",
    "#                                param2=50,\n",
    "#                                minRadius=10,\n",
    "#                                maxRadius=-1)\n",
    "    \n",
    "    for i in circles[0,:]:\n",
    "        # draw the center of the circle\n",
    "        cv2.circle(color_img,(i[0],i[1]), 1, (0,255,0), 1)\n",
    "        \n",
    "    cv2.imshow('detected circles', color_img)\n",
    "    cv2.imshow('dilation', dilation)\n",
    "    cv2.waitKey(0)\n",
    "    cv2.destroyAllWindows()"
   ]
  },
  {
   "cell_type": "code",
   "execution_count": 108,
   "metadata": {},
   "outputs": [],
   "source": [
    "detect_circle(IMG_NAME)"
   ]
  }
 ],
 "metadata": {
  "kernelspec": {
   "display_name": "Kernel",
   "language": "python",
   "name": "kernel"
  },
  "language_info": {
   "codemirror_mode": {
    "name": "ipython",
    "version": 3
   },
   "file_extension": ".py",
   "mimetype": "text/x-python",
   "name": "python",
   "nbconvert_exporter": "python",
   "pygments_lexer": "ipython3",
   "version": "3.7.5"
  }
 },
 "nbformat": 4,
 "nbformat_minor": 4
}
